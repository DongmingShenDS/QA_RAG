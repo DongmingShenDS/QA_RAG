{
 "cells": [
  {
   "cell_type": "code",
   "execution_count": 3,
   "id": "26e14857-557b-4197-a6f0-4e826e6e5903",
   "metadata": {},
   "outputs": [],
   "source": [
    "from dotenv import load_dotenv\n",
    "load_dotenv()\n",
    "import os\n",
    "from parse_notes import QA_PDF"
   ]
  },
  {
   "cell_type": "code",
   "execution_count": 13,
   "id": "8048e2bb-288b-4f89-b5ea-80e93f1154e9",
   "metadata": {},
   "outputs": [],
   "source": [
    "chat = QA_PDF(chat_model=\"open-mixtral-8x7b\", emb_model=\"mistral-embed\")\n",
    "chat.read_directory(\".\")"
   ]
  },
  {
   "cell_type": "code",
   "execution_count": 15,
   "id": "ffcce436-b507-4702-8794-1d9f8c4d3c78",
   "metadata": {},
   "outputs": [],
   "source": [
    "# chat.ask(\"what is multi agent path finding and how is it related to reinforcement learning\")"
   ]
  },
  {
   "cell_type": "code",
   "execution_count": null,
   "id": "98241040-d698-4177-9341-05c6e6e60360",
   "metadata": {},
   "outputs": [],
   "source": []
  }
 ],
 "metadata": {
  "kernelspec": {
   "display_name": "llm",
   "language": "python",
   "name": "llm"
  },
  "language_info": {
   "codemirror_mode": {
    "name": "ipython",
    "version": 3
   },
   "file_extension": ".py",
   "mimetype": "text/x-python",
   "name": "python",
   "nbconvert_exporter": "python",
   "pygments_lexer": "ipython3",
   "version": "3.12.2"
  }
 },
 "nbformat": 4,
 "nbformat_minor": 5
}
